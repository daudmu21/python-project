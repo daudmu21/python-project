{
 "cells": [
  {
   "cell_type": "code",
   "execution_count": 10,
   "metadata": {},
   "outputs": [
    {
     "name": "stdout",
     "output_type": "stream",
     "text": [
      "3\n"
     ]
    }
   ],
   "source": [
    "my_string = 'This is my string'\n",
    "\n",
    "\n",
    "\n",
    "\n",
    "my_second_string = 'daud'\n",
    "\n",
    "#city= 'london'\n",
    "#fix = city.capitalize()\n",
    "#print(fix)\n",
    "\n",
    "print(my_string.count('i'))\n",
    "#dir(my_second_string)\n",
    "#print(my_second_string.capitalize())"
   ]
  },
  {
   "cell_type": "code",
   "execution_count": 11,
   "metadata": {},
   "outputs": [
    {
     "name": "stdout",
     "output_type": "stream",
     "text": [
      "iThiss\n"
     ]
    }
   ],
   "source": [
    "word1 = 'This'\n",
    "word2 = 'is'\n",
    "word3 = 'string'\n",
    "total = word1.join(word2)\n",
    "print(total)"
   ]
  },
  {
   "cell_type": "code",
   "execution_count": 12,
   "metadata": {},
   "outputs": [
    {
     "data": {
      "text/plain": [
       "['This', 'is', 'my', 'string']"
      ]
     },
     "execution_count": 12,
     "metadata": {},
     "output_type": "execute_result"
    }
   ],
   "source": [
    "mydata = 'This is my string'\n",
    "mydata.split(' ')"
   ]
  },
  {
   "cell_type": "code",
   "execution_count": 21,
   "metadata": {},
   "outputs": [
    {
     "name": "stdout",
     "output_type": "stream",
     "text": [
      "This is my string\n",
      "is my\n"
     ]
    }
   ],
   "source": [
    "mydata = 'This is my string'\n",
    "word1, word2, word3, word4 = mydata.split(' ')\n",
    "total = f'{word1} {word2} {word3} {word4}'\n",
    "print(total)\n",
    "print(total[5:10])\n"
   ]
  },
  {
   "cell_type": "code",
   "execution_count": 24,
   "metadata": {},
   "outputs": [
    {
     "name": "stdout",
     "output_type": "stream",
     "text": [
      "This is my string\n"
     ]
    }
   ],
   "source": [
    "my_string = ' this is my string '\n",
    "print(my_string.strip().capitalize())"
   ]
  },
  {
   "cell_type": "code",
   "execution_count": 26,
   "metadata": {},
   "outputs": [
    {
     "name": "stdout",
     "output_type": "stream",
     "text": [
      "This is my string\n"
     ]
    }
   ],
   "source": [
    "my_string = 'This-is-my-string'\n",
    "print(my_string.replace('-', ' '))"
   ]
  },
  {
   "cell_type": "code",
   "execution_count": null,
   "metadata": {},
   "outputs": [
    {	
      "name": "stdout",	
     "output_type": "stream",	
     "text": [	
      "[master bce57b4] example class\n",	
      " 2 files changed, 170 insertions(+)\n",	
      " create mode 100644 .ipynb_checkpoints/First_class-checkpoint.ipynb\n",	
      " create mode 100644 First_class.ipynb\n",	
      "Username for 'https://github.com': "	
     ]	
    }	
   ],	
   "source": [	
    "! git add . && git commit -m 'example class' && git push origin master"	
   ]	
  },	
  {	
   "cell_type": "code",	
   "execution_count": null,	
   "metadata": {},	
   "outputs": [],	
   "source": []	
  }	
 ],	
 "metadata": {	
  "kernelspec": {	
   "display_name": "Python 3",	
   "language": "python",	
   "name": "python3"	
  },	
  "language_info": {	
   "codemirror_mode": {	
    "name": "ipython",	
    "version": 3	
   },	
   "file_extension": ".py",	
   "mimetype": "text/x-python",	
   "name": "python",	
   "nbconvert_exporter": "python",	
   "pygments_lexer": "ipython3",	
   "version": "3.6.5"	
  }	
 },	
 "nbformat": 4,	
 "nbformat_minor": 2	
}
   
