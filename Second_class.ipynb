{
 "cells": [
  {
   "cell_type": "code",
   "execution_count": 1,
   "metadata": {},
   "outputs": [
    {
     "name": "stdout",
     "output_type": "stream",
     "text": [
      "Hello World\n"
     ]
    }
   ],
   "source": [
    "print('Hello World')"
   ]
  },
  {
   "cell_type": "code",
   "execution_count": 4,
   "metadata": {},
   "outputs": [
    {
     "data": {
      "text/plain": [
       "True"
      ]
     },
     "execution_count": 4,
     "metadata": {},
     "output_type": "execute_result"
    }
   ],
   "source": [
    "var = True \n",
    "mystring = 'example'\n",
    "var is True"
   ]
  },
  {
   "cell_type": "code",
   "execution_count": 5,
   "metadata": {},
   "outputs": [
    {
     "data": {
      "text/plain": [
       "True"
      ]
     },
     "execution_count": 5,
     "metadata": {},
     "output_type": "execute_result"
    }
   ],
   "source": [
    "var = True \n",
    "mystring = 'example'\n",
    "mystring is 'example'"
   ]
  },
  {
   "cell_type": "code",
   "execution_count": 6,
   "metadata": {},
   "outputs": [
    {
     "data": {
      "text/plain": [
       "bool"
      ]
     },
     "execution_count": 6,
     "metadata": {},
     "output_type": "execute_result"
    }
   ],
   "source": [
    "var = True \n",
    "mystring = 'example'\n",
    "type(var)"
   ]
  },
  {
   "cell_type": "code",
   "execution_count": 7,
   "metadata": {},
   "outputs": [
    {
     "name": "stdout",
     "output_type": "stream",
     "text": [
      "2001\n"
     ]
    }
   ],
   "source": [
    "mynum = 2001\n",
    "print (mynum)"
   ]
  },
  {
   "cell_type": "code",
   "execution_count": 8,
   "metadata": {},
   "outputs": [
    {
     "data": {
      "text/plain": [
       "int"
      ]
     },
     "execution_count": 8,
     "metadata": {},
     "output_type": "execute_result"
    }
   ],
   "source": [
    "mynum = 2001\n",
    "type (mynum)"
   ]
  },
  {
   "cell_type": "code",
   "execution_count": 10,
   "metadata": {},
   "outputs": [
    {
     "data": {
      "text/plain": [
       "str"
      ]
     },
     "execution_count": 10,
     "metadata": {},
     "output_type": "execute_result"
    }
   ],
   "source": [
    "mynum = '2001'\n",
    "type (mynum)"
   ]
  },
  {
   "cell_type": "code",
   "execution_count": 11,
   "metadata": {},
   "outputs": [
    {
     "name": "stdout",
     "output_type": "stream",
     "text": [
      "18\n"
     ]
    }
   ],
   "source": [
    "mynum = 2001\n",
    "now =2019\n",
    "myage = now -mynum\n",
    "print (myage)"
   ]
  },
  {
   "cell_type": "code",
   "execution_count": 14,
   "metadata": {},
   "outputs": [
    {
     "data": {
      "text/plain": [
       "float"
      ]
     },
     "execution_count": 14,
     "metadata": {},
     "output_type": "execute_result"
    }
   ],
   "source": [
    "mynum = 2001\n",
    "now =2019\n",
    "myfloat = 1.4\n",
    "type (myfloat)"
   ]
  },
  {
   "cell_type": "code",
   "execution_count": 16,
   "metadata": {},
   "outputs": [
    {
     "name": "stdout",
     "output_type": "stream",
     "text": [
      "range(1, 10)\n"
     ]
    }
   ],
   "source": [
    "mynum = 2001\n",
    "data = range(1, 10)\n",
    "print(data)"
   ]
  },
  {
   "cell_type": "code",
   "execution_count": 17,
   "metadata": {},
   "outputs": [
    {
     "name": "stdout",
     "output_type": "stream",
     "text": [
      "3\n"
     ]
    }
   ],
   "source": [
    "mynum = 2001\n",
    "data = range(1, 10)\n",
    "print(data[2])"
   ]
  },
  {
   "cell_type": "code",
   "execution_count": 18,
   "metadata": {},
   "outputs": [
    {
     "name": "stdout",
     "output_type": "stream",
     "text": [
      "ample\n"
     ]
    }
   ],
   "source": [
    "mynum = 2001\n",
    "data = range(1, 10)\n",
    "mystring = 'Example'\n",
    "print(mystring[2:7])"
   ]
  },
  {
   "cell_type": "code",
   "execution_count": 19,
   "metadata": {},
   "outputs": [
    {
     "name": "stdout",
     "output_type": "stream",
     "text": [
      "[]\n"
     ]
    }
   ],
   "source": [
    "mylist = []\n",
    "print(mylist)"
   ]
  },
  {
   "cell_type": "code",
   "execution_count": 21,
   "metadata": {},
   "outputs": [
    {
     "data": {
      "text/plain": [
       "list"
      ]
     },
     "execution_count": 21,
     "metadata": {},
     "output_type": "execute_result"
    }
   ],
   "source": [
    "mylist = []\n",
    "type(mylist)"
   ]
  },
  {
   "cell_type": "code",
   "execution_count": 22,
   "metadata": {},
   "outputs": [
    {
     "name": "stdout",
     "output_type": "stream",
     "text": [
      "['Abdul']\n"
     ]
    }
   ],
   "source": [
    "users = ['Abdul']\n",
    "print(users)"
   ]
  },
  {
   "cell_type": "code",
   "execution_count": 23,
   "metadata": {},
   "outputs": [
    {
     "name": "stdout",
     "output_type": "stream",
     "text": [
      "['Abdul', 'Farkhod']\n"
     ]
    }
   ],
   "source": [
    "users = ['Abdul']\n",
    "users.append('Farkhod')\n",
    "print(users)"
   ]
  },
  {
   "cell_type": "code",
   "execution_count": 24,
   "metadata": {},
   "outputs": [
    {
     "name": "stdout",
     "output_type": "stream",
     "text": [
      "['Abdul', 'Farkhod', True]\n"
     ]
    }
   ],
   "source": [
    "users = ['Abdul']\n",
    "users.append('Farkhod')\n",
    "users.append(True)\n",
    "print(users)"
   ]
  },
  {
   "cell_type": "code",
   "execution_count": 25,
   "metadata": {},
   "outputs": [
    {
     "name": "stdout",
     "output_type": "stream",
     "text": [
      "['Abdul', 'Farkhod']\n"
     ]
    }
   ],
   "source": [
    "users = ['Abdul']\n",
    "users.append('Farkhod')\n",
    "users.append(True)\n",
    "users.remove(True)\n",
    "print(users)"
   ]
  },
  {
   "cell_type": "code",
   "execution_count": 28,
   "metadata": {},
   "outputs": [
    {
     "name": "stdout",
     "output_type": "stream",
     "text": [
      "['Abdul', 'Farkhod', 'Nadira', 'Anna']\n"
     ]
    }
   ],
   "source": [
    "users = ['Abdul']\n",
    "users.append('Farkhod')\n",
    "users.append('Nadira')\n",
    "users.append('Anna')\n",
    "print(users)"
   ]
  },
  {
   "cell_type": "code",
   "execution_count": 29,
   "metadata": {},
   "outputs": [
    {
     "name": "stdout",
     "output_type": "stream",
     "text": [
      "['Abdul', 'Farkhod', 'Nadira', 'Anna']\n",
      "1\n"
     ]
    }
   ],
   "source": [
    "users = ['Abdul']\n",
    "users.append('Farkhod')\n",
    "users.append('Nadira')\n",
    "users.append('Anna')\n",
    "print(users)\n",
    "\n",
    "print(users.count('Anna'))\n"
   ]
  },
  {
   "cell_type": "code",
   "execution_count": 30,
   "metadata": {},
   "outputs": [
    {
     "name": "stdout",
     "output_type": "stream",
     "text": [
      "['Abdul', 'Farkhod', 'Nadira', 'Anna']\n"
     ]
    },
    {
     "data": {
      "text/plain": [
       "'Anna'"
      ]
     },
     "execution_count": 30,
     "metadata": {},
     "output_type": "execute_result"
    }
   ],
   "source": [
    "users = ['Abdul']\n",
    "users.append('Farkhod')\n",
    "users.append('Nadira')\n",
    "users.append('Anna')\n",
    "print(users)\n",
    "\n",
    "#print(users.count('Anna'))\n",
    "users.pop()\n"
   ]
  },
  {
   "cell_type": "code",
   "execution_count": 31,
   "metadata": {},
   "outputs": [
    {
     "name": "stdout",
     "output_type": "stream",
     "text": [
      "['Abdul', 'Farkhod', 'Nadira', 'Anna']\n"
     ]
    }
   ],
   "source": [
    "users = ['Abdul']\n",
    "users.append('Farkhod')\n",
    "users.append('Nadira')\n",
    "users.append('Anna')\n",
    "print(users)\n",
    "\n",
    "#print(users.count('Anna'))\n",
    "#users.pop()\n",
    "users.remove('Anna')"
   ]
  },
  {
   "cell_type": "code",
   "execution_count": 36,
   "metadata": {},
   "outputs": [
    {
     "name": "stdout",
     "output_type": "stream",
     "text": [
      "['Abdul', 'Farkhod', 'Nadira', 'Anna']\n",
      "1\n"
     ]
    }
   ],
   "source": [
    "users = ['Abdul']\n",
    "users.append('Farkhod')\n",
    "users.append('Nadira')\n",
    "users.append('Anna')\n",
    "print(users)\n",
    "\n",
    "#print(users.count('Anna'))\n",
    "#users.pop()\n",
    "users.remove('Anna')\n",
    "foundIndex = users.index('Farkhod')\n",
    "print(users.index('Farkhod'))"
   ]
  },
  {
   "cell_type": "code",
   "execution_count": 37,
   "metadata": {},
   "outputs": [
    {
     "name": "stdout",
     "output_type": "stream",
     "text": [
      "['Abdul', 'Farkhod', 'Nadira', 'Anna']\n",
      "1\n"
     ]
    },
    {
     "data": {
      "text/plain": [
       "'Farkhod'"
      ]
     },
     "execution_count": 37,
     "metadata": {},
     "output_type": "execute_result"
    }
   ],
   "source": [
    "users = ['Abdul']\n",
    "users.append('Farkhod')\n",
    "users.append('Nadira')\n",
    "users.append('Anna')\n",
    "print(users)\n",
    "\n",
    "#print(users.count('Anna'))\n",
    "#users.pop()\n",
    "users.remove('Anna')\n",
    "foundIndex = users.index('Farkhod')\n",
    "print(users.index('Farkhod'))\n",
    "users.pop(foundIndex)"
   ]
  },
  {
   "cell_type": "code",
   "execution_count": 38,
   "metadata": {},
   "outputs": [
    {
     "name": "stdout",
     "output_type": "stream",
     "text": [
      "['Abdul', 'Farkhod', 'Nadira', 'Anna']\n",
      "1\n"
     ]
    }
   ],
   "source": [
    "users = ['Abdul']\n",
    "users.append('Farkhod')\n",
    "users.append('Nadira')\n",
    "users.append('Anna')\n",
    "print(users)\n",
    "\n",
    "#print(users.count('Anna'))\n",
    "#users.pop()\n",
    "users.remove('Anna')\n",
    "foundIndex = users.index('Farkhod')\n",
    "print(users.index('Farkhod'))\n",
    "users.pop(foundIndex)\n",
    "\n",
    "users.insert(1, 'user')"
   ]
  },
  {
   "cell_type": "code",
   "execution_count": 43,
   "metadata": {},
   "outputs": [
    {
     "name": "stdout",
     "output_type": "stream",
     "text": [
      "{'type': 'fruit', 'color': 'orange', 'count': 1}\n"
     ]
    }
   ],
   "source": [
    "mydict = {'type' : 'fruit', 'color' : 'orange'}\n",
    "mydict['count'] = 1\n",
    "print(mydict)"
   ]
  },
  {
   "cell_type": "code",
   "execution_count": 44,
   "metadata": {},
   "outputs": [
    {
     "name": "stdout",
     "output_type": "stream",
     "text": [
      "dict_values(['fruit', 'orange', 1])\n"
     ]
    }
   ],
   "source": [
    "mydict = {'type' : 'fruit', 'color' : 'orange'}\n",
    "mydict['count'] = 1\n",
    "mylist = mydict.values()\n",
    "print(mylist)"
   ]
  },
  {
   "cell_type": "code",
   "execution_count": 45,
   "metadata": {},
   "outputs": [
    {
     "data": {
      "text/plain": [
       "True"
      ]
     },
     "execution_count": 45,
     "metadata": {},
     "output_type": "execute_result"
    }
   ],
   "source": [
    "mydict = {'type' : 'fruit', 'color' : 'orange'}\n",
    "mydict['count'] = 1\n",
    "mydict['type'] is 'fruit'"
   ]
  },
  {
   "cell_type": "code",
   "execution_count": 46,
   "metadata": {},
   "outputs": [
    {
     "name": "stdout",
     "output_type": "stream",
     "text": [
      "True\n"
     ]
    }
   ],
   "source": [
    "mydict = {'type' : 'fruit', 'color' : 'orange'}\n",
    "mydict['count'] = 1\n",
    "print(mydict['type'] is 'fruit')"
   ]
  },
  {
   "cell_type": "code",
   "execution_count": 47,
   "metadata": {},
   "outputs": [
    {
     "name": "stdout",
     "output_type": "stream",
     "text": [
      "orange\n"
     ]
    }
   ],
   "source": [
    "mydict = {'type' : 'fruit', 'color' : 'orange'}\n",
    "mydict['count'] = 1\n",
    "print(mydict['color'])"
   ]
  },
  {
   "cell_type": "code",
   "execution_count": 48,
   "metadata": {},
   "outputs": [
    {
     "name": "stdout",
     "output_type": "stream",
     "text": [
      "orange fruit\n"
     ]
    }
   ],
   "source": [
    "mydict = {'type' : 'fruit', 'color' : 'orange'}\n",
    "mydict['count'] = 1\n",
    "print(mydict['color']+ ' '+ mydict['type'])"
   ]
  },
  {
   "cell_type": "code",
   "execution_count": 51,
   "metadata": {},
   "outputs": [
    {
     "name": "stdout",
     "output_type": "stream",
     "text": [
      "{'type': 'fruit', 'color': 'red'}\n"
     ]
    }
   ],
   "source": [
    "mydict = {'type' : 'fruit', 'color' : 'orange'}\n",
    "mydict['color'] = 'red'\n",
    "print(mydict)"
   ]
  },
  {
   "cell_type": "code",
   "execution_count": 52,
   "metadata": {},
   "outputs": [
    {
     "name": "stdout",
     "output_type": "stream",
     "text": [
      "{'type': 'fruit', 'color': 'red', 'count': 1}\n"
     ]
    }
   ],
   "source": [
    "mydict = {'type' : 'fruit', 'color' : 'orange'}\n",
    "mydict['color'] = 'red'\n",
    "mydict['count'] = 1\n",
    "print(mydict)"
   ]
  },
  {
   "cell_type": "code",
   "execution_count": 54,
   "metadata": {},
   "outputs": [
    {
     "name": "stdout",
     "output_type": "stream",
     "text": [
      "dict_keys(['type', 'color', 'count'])\n"
     ]
    }
   ],
   "source": [
    "mydict = {'type' : 'fruit', 'color' : 'orange'}\n",
    "mydict['color'] = 'red'\n",
    "mydict['count'] = 1\n",
    "print(mydict.keys())"
   ]
  },
  {
   "cell_type": "code",
   "execution_count": 55,
   "metadata": {},
   "outputs": [
    {
     "name": "stdout",
     "output_type": "stream",
     "text": [
      "dict_keys(['type', 'color', 'count'])\n",
      "dict_values(['fruit', 'red', 1])\n"
     ]
    }
   ],
   "source": [
    "mydict = {'type' : 'fruit', 'color' : 'orange'}\n",
    "mydict['color'] = 'red'\n",
    "mydict['count'] = 1\n",
    "print(mydict.keys())\n",
    "print(mydict.values())"
   ]
  },
  {
   "cell_type": "code",
   "execution_count": 61,
   "metadata": {},
   "outputs": [
    {
     "name": "stdout",
     "output_type": "stream",
     "text": [
      "{'username': 'Farkhod', 'firstname': 'Farkhod', 'lastname': 'Sadykov'}\n"
     ]
    }
   ],
   "source": [
    "mydict = {'type' : 'fruit', 'color' : 'orange'}\n",
    "mydict['color'] = 'red'\n",
    "mydict['count'] = 1\n",
    "#print(mydict.keys())\n",
    "#print(mydict.values())\n",
    "\n",
    "users = dict(username='Farkhod' , firstname='Farkhod', lastname='Sadykov')\n",
    "print(users)"
   ]
  },
  {
   "cell_type": "code",
   "execution_count": null,
   "metadata": {},
   "outputs": [],
   "source": []
  }
 ],
 "metadata": {
  "kernelspec": {
   "display_name": "Python 3",
   "language": "python",
   "name": "python3"
  },
  "language_info": {
   "codemirror_mode": {
    "name": "ipython",
    "version": 3
   },
   "file_extension": ".py",
   "mimetype": "text/x-python",
   "name": "python",
   "nbconvert_exporter": "python",
   "pygments_lexer": "ipython3",
   "version": "3.6.5"
  }
 },
 "nbformat": 4,
 "nbformat_minor": 2
}
